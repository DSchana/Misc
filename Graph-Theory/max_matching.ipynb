{
 "cells": [
  {
   "cell_type": "markdown",
   "metadata": {},
   "source": [
    "#  Maximum Matching Algorithm using Augmenting Path Algorithm"
   ]
  },
  {
   "cell_type": "code",
   "execution_count": 1,
   "metadata": {},
   "outputs": [],
   "source": [
    "def maxMatching(X, Y, E):\n",
    "    '''\n",
    "    X - First partite set with vertices labeled with numbers\n",
    "    Y - Second partite set with vertices labeled with numbers\n",
    "    E - Edge set with unordered pairs from X and Y\n",
    "    '''\n",
    "\n",
    "    M = {}  # m[x] = y -> x matches with y\n",
    "    S = [False] * len(X)\n",
    "    marked = []\n",
    "\n",
    "    # initialize all matches to null\n",
    "    for x in X:\n",
    "        M[x] = None\n",
    "\n",
    "    max_matching_found = False\n",
    "\n",
    "    while not max_matching_found:\n",
    "        term = False\n",
    "\n",
    "        for x in X:\n",
    "            # Consider every unmarked x in X\n",
    "            if x not in marked:\n",
    "                # Find neighbours of x in Y from the edge set E\n",
    "                ns = []\n",
    "                for e in E:\n",
    "                    if e[0] == x:\n",
    "                        ns.append(e[1])\n",
    "                    elif e[1] == x:\n",
    "                        ns.append(e[0])\n",
    "\n",
    "                for y in ns:\n",
    "                    if M[x] != y and y not in M.values():\n",
    "                        # For all neighbours of x, if y is unsaturated by M\n",
    "                        # Then add xy to M and terminate this iteration\n",
    "\n",
    "                        M[x] = y\n",
    "                        term = True\n",
    "                        break\n",
    "                    else:\n",
    "                        # If y is already saturated by M then it is already matched to some x\n",
    "                        # so we add that to S\n",
    "                        for i in range(len(X)):\n",
    "                            if M[X[i]] == y:\n",
    "                                S[i] = True\n",
    "                                break\n",
    "\n",
    "                marked.append(x)  # Mark x after x has been considered\n",
    "\n",
    "            # Terminate current iteration\n",
    "            if term:\n",
    "                break\n",
    "\n",
    "        # Once all x in X have been considered a maximum matching is found\n",
    "        if len(marked) == len(X):\n",
    "            max_matching_found = True\n",
    "\n",
    "    # Return edges in the same format they were provided\n",
    "    ret = []\n",
    "    for x in X:\n",
    "        if M[x] == None:\n",
    "            del M[x]\n",
    "        else:\n",
    "            ret.append((x, M[x]))\n",
    "\n",
    "    return ret"
   ]
  },
  {
   "cell_type": "markdown",
   "metadata": {},
   "source": [
    "This algorithm uses the Augmenting Path Algorithm from 3.2.1 from Doublas B. West's book \"Introduction to Graph Theory\"."
   ]
  },
  {
   "cell_type": "markdown",
   "metadata": {},
   "source": [
    "## Example\n",
    "\n",
    "This graph is exampled in the algorithm and returns A similar result to the picture; there are many options for a maximum matching with the way the edges connect multiple nodes.\n",
    "\n",
    "![Sample graph](Sample-graph.jpg)\n",
    "\n",
    "In the example below, the above graph is represented as `V(X) = [0, 1, 2, 3, 4, 5, 6, 7, 8]` and `V(Y) = [9, 10, 11, 12, 13, 14, 15, 16]`"
   ]
  },
  {
   "cell_type": "code",
   "execution_count": 2,
   "metadata": {},
   "outputs": [
    {
     "name": "stdout",
     "output_type": "stream",
     "text": [
      "6 [(0, 9), (2, 10), (4, 11), (6, 12), (7, 13), (8, 14)]\n"
     ]
    }
   ],
   "source": [
    "X = [0, 1, 2, 3, 4, 5, 6, 7, 8]\n",
    "Y = [9, 10, 11, 12, 13, 14, 15, 16]\n",
    "E = [(0, 9),\n",
    "     (1, 9),\n",
    "     (2, 10),\n",
    "     (3, 9),\n",
    "     (4, 9), (4, 10), (4, 11),\n",
    "     (5, 10), (5, 11),\n",
    "     (6, 11), (6, 12),\n",
    "     (7, 10), (7, 13), (7, 15),\n",
    "     (8, 10), (8, 14), (8, 16)]\n",
    "\n",
    "M = maxMatching(X, Y, E)\n",
    "print(len(M), M)"
   ]
  },
  {
   "cell_type": "markdown",
   "metadata": {},
   "source": [
    "We see the same number of edges are found for the matching. The last three edges are the exact same, and the only option, as the example graph. The first three edges have some options since node 9, 10 and 11 are connected to many degree 1-3 nodes in X."
   ]
  }
 ],
 "metadata": {
  "kernelspec": {
   "display_name": "Python 3",
   "language": "python",
   "name": "python3"
  },
  "language_info": {
   "codemirror_mode": {
    "name": "ipython",
    "version": 3
   },
   "file_extension": ".py",
   "mimetype": "text/x-python",
   "name": "python",
   "nbconvert_exporter": "python",
   "pygments_lexer": "ipython3",
   "version": "3.8.2"
  }
 },
 "nbformat": 4,
 "nbformat_minor": 4
}
